{
 "cells": [
  {
   "cell_type": "code",
   "execution_count": 1,
   "id": "38045696-33c2-49e0-9388-90db32aad82e",
   "metadata": {
    "execution": {
     "iopub.execute_input": "2023-11-19T17:05:53.335779Z",
     "iopub.status.busy": "2023-11-19T17:05:53.335537Z",
     "iopub.status.idle": "2023-11-19T17:05:55.951893Z",
     "shell.execute_reply": "2023-11-19T17:05:55.950719Z",
     "shell.execute_reply.started": "2023-11-19T17:05:53.335752Z"
    }
   },
   "outputs": [],
   "source": [
    "from liberate import fhe\n",
    "from liberate.fhe import presets\n",
    "from liberate.utils.helpers import absmax_error"
   ]
  },
  {
   "cell_type": "markdown",
   "id": "784b87f7",
   "metadata": {},
   "source": [
    "# 1. Set params"
   ]
  },
  {
   "cell_type": "code",
   "execution_count": 2,
   "id": "74c349e2",
   "metadata": {
    "execution": {
     "iopub.execute_input": "2023-11-19T17:05:55.956006Z",
     "iopub.status.busy": "2023-11-19T17:05:55.955008Z",
     "iopub.status.idle": "2023-11-19T17:05:57.969287Z",
     "shell.execute_reply": "2023-11-19T17:05:57.968319Z",
     "shell.execute_reply.started": "2023-11-19T17:05:55.955972Z"
    }
   },
   "outputs": [
    {
     "name": "stdout",
     "output_type": "stream",
     "text": [
      "{'logN': 15, 'num_special_primes': 2, 'devices': [0], 'scale_bits': 40, 'num_scales': None}\n",
      "[2023-11-20 02:05:56.001708] I have received the context:\n",
      "\n",
      "\n",
      "I have received inputs:\n",
      "        buffer_bit_length\t\t= 62\n",
      "        scale_bits\t\t\t= 40\n",
      "        logN\t\t\t\t= 15\n",
      "        N\t\t\t\t= 32,768\n",
      "        Number of special primes\t= 2\n",
      "        Number of scales\t\t= 16\n",
      "        Cache folder\t\t\t= '/home/hanyul/.pyenv/versions/liberate/lib/python3.11/site-packages/liberate/fhe/cache/resources'\n",
      "        Security bits\t\t\t= 128\n",
      "        Quantum security model\t\t= post_quantum\n",
      "        Security sampling distribution\t= uniform\n",
      "        Number of message bits\t\t= 60\n",
      "        In total I will be using '821' bits out of available maximum '829' bits.\n",
      "        And is it secured?\t\t= True\n",
      "My RNS primes are [1099510054913, 1099515691009, 1099507695617, 1099516280833, 1099506515969, 1099520606209, 1099504549889, 1099523555329, 1099503894529, 1099527946241, 1099503370241, 1099529060353, 1099498258433, 1099531223041, 1099469684737, 1099532009473, 1152921504606584833, 1152921504598720513, 1152921504597016577].\n",
      "[2023-11-20 02:05:56.001819] Requested devices for computation are [0].\n",
      "[2023-11-20 02:05:56.003384] I have generated a partitioning scheme.\n",
      "[2023-11-20 02:05:56.003399] I have in total 17 levels available.\n",
      "[2023-11-20 02:05:56.003407] I have 17 ordinary primes.\n",
      "[2023-11-20 02:05:56.003414] I have 2 special primes.\n",
      "[2023-11-20 02:05:57.592752] I prepared ntt parameters.\n",
      "[2023-11-20 02:05:57.592887] ntt initialization took 1.59 seconds.\n"
     ]
    }
   ],
   "source": [
    "params = presets.params[\"silver\"]\n",
    "\n",
    "num_of_parties = 10\n",
    "print(params)\n",
    "\n",
    "engine = fhe.ckks_engine(verbose=True, **params)"
   ]
  },
  {
   "cell_type": "markdown",
   "id": "8511dc85",
   "metadata": {},
   "source": [
    "# 2. Generate sk, cpk"
   ]
  },
  {
   "cell_type": "code",
   "execution_count": 3,
   "id": "d6887ca7",
   "metadata": {
    "execution": {
     "iopub.execute_input": "2023-11-19T17:05:57.971754Z",
     "iopub.status.busy": "2023-11-19T17:05:57.971191Z",
     "iopub.status.idle": "2023-11-19T17:05:57.982896Z",
     "shell.execute_reply": "2023-11-19T17:05:57.982266Z",
     "shell.execute_reply.started": "2023-11-19T17:05:57.971712Z"
    }
   },
   "outputs": [],
   "source": [
    "###################################\n",
    "####    generate secret key    ####\n",
    "###################################\n",
    "sks = [engine.create_secret_key() for _ in range(num_of_parties)]\n",
    "\n",
    "\n",
    "###################################\n",
    "####    generate public key    ####\n",
    "###################################\n",
    "pks = [engine.create_public_key(sk=sks[0])]\n",
    "crs = engine.clone(pks[0]).data[1]\n",
    "for sk in sks[1:]:\n",
    "    pks.append(engine.multiparty_create_public_key(sk, a=crs))\n",
    "\n",
    "##############################################\n",
    "####    generate collective public key    ####\n",
    "##############################################\n",
    "cpk = engine.multiparty_create_collective_public_key(pks=pks)"
   ]
  },
  {
   "cell_type": "markdown",
   "id": "7c7ec818",
   "metadata": {},
   "source": [
    "# 3. Generate Collective Evaluation Key (cevk)"
   ]
  },
  {
   "cell_type": "code",
   "execution_count": 4,
   "id": "3d2f7deb",
   "metadata": {
    "execution": {
     "iopub.execute_input": "2023-11-19T17:05:57.984012Z",
     "iopub.status.busy": "2023-11-19T17:05:57.983660Z",
     "iopub.status.idle": "2023-11-19T17:05:58.345564Z",
     "shell.execute_reply": "2023-11-19T17:05:58.344688Z",
     "shell.execute_reply.started": "2023-11-19T17:05:57.983994Z"
    }
   },
   "outputs": [],
   "source": [
    "evks_share = [engine.create_key_switching_key(sks[0], sks[0])]\n",
    "crs = engine.generate_rotation_crs(evks_share[0])\n",
    "\n",
    "# generate each party's evk_share\n",
    "for sk in sks[1:]:\n",
    "    evks_share.append(engine.multiparty_create_key_switching_key(sk, sk, a=crs))"
   ]
  },
  {
   "cell_type": "code",
   "execution_count": 5,
   "id": "374f9cc2",
   "metadata": {
    "execution": {
     "iopub.execute_input": "2023-11-19T17:05:58.346666Z",
     "iopub.status.busy": "2023-11-19T17:05:58.346487Z",
     "iopub.status.idle": "2023-11-19T17:05:58.352938Z",
     "shell.execute_reply": "2023-11-19T17:05:58.352123Z",
     "shell.execute_reply.started": "2023-11-19T17:05:58.346650Z"
    }
   },
   "outputs": [],
   "source": [
    "########################\n",
    "#### add evks_share ####\n",
    "########################\n",
    "evk_sum = engine.multiparty_sum_evk_share(evks_share)"
   ]
  },
  {
   "cell_type": "code",
   "execution_count": 6,
   "id": "062c6e2f",
   "metadata": {
    "execution": {
     "iopub.execute_input": "2023-11-19T17:05:58.353977Z",
     "iopub.status.busy": "2023-11-19T17:05:58.353740Z",
     "iopub.status.idle": "2023-11-19T17:05:58.699788Z",
     "shell.execute_reply": "2023-11-19T17:05:58.698854Z",
     "shell.execute_reply.started": "2023-11-19T17:05:58.353960Z"
    }
   },
   "outputs": [],
   "source": [
    "######################################\n",
    "####    mult sk_i and evks_sum    ####\n",
    "######################################\n",
    "evk_sum_mult = [engine.multiparty_mult_evk_share_sum(evk_sum, sk) for sk in sks]"
   ]
  },
  {
   "cell_type": "code",
   "execution_count": 7,
   "id": "8896c4f9",
   "metadata": {
    "execution": {
     "iopub.execute_input": "2023-11-19T17:05:58.701795Z",
     "iopub.status.busy": "2023-11-19T17:05:58.701534Z",
     "iopub.status.idle": "2023-11-19T17:05:58.710242Z",
     "shell.execute_reply": "2023-11-19T17:05:58.709404Z",
     "shell.execute_reply.started": "2023-11-19T17:05:58.701778Z"
    }
   },
   "outputs": [],
   "source": [
    "###################################\n",
    "####    sum up evk sum mult    ####\n",
    "###################################\n",
    "\n",
    "cevk = engine.multiparty_sum_evk_share_mult(evk_sum_mult)"
   ]
  },
  {
   "cell_type": "code",
   "execution_count": 8,
   "id": "8b79ffca",
   "metadata": {
    "execution": {
     "iopub.execute_input": "2023-11-19T17:05:58.710918Z",
     "iopub.status.busy": "2023-11-19T17:05:58.710750Z",
     "iopub.status.idle": "2023-11-19T17:05:59.899197Z",
     "shell.execute_reply": "2023-11-19T17:05:59.898058Z",
     "shell.execute_reply.started": "2023-11-19T17:05:58.710901Z"
    }
   },
   "outputs": [
    {
     "name": "stdout",
     "output_type": "stream",
     "text": [
      "====================================================================================================\n",
      "|\tfrom\t|\t\t multiparty cevk 16\t\t\t\t|\tto\t|\n",
      "====================================================================================================\n",
      "|\t 0\t| abs max error : 5.251673428574577e-05+5.305385275278240e-05j\t|\t1\t|\n",
      "====================================================================================================\n",
      "|\t 1\t| abs max error : 4.791437095263973e-05+6.368057802319527e-05j\t|\t2\t|\n",
      "====================================================================================================\n",
      "|\t 2\t| abs max error : 5.366812183638103e-05+5.742147914133966e-05j\t|\t3\t|\n",
      "====================================================================================================\n",
      "|\t 3\t| abs max error : 6.590963312191889e-05+6.023500463925302e-05j\t|\t4\t|\n",
      "====================================================================================================\n",
      "|\t 4\t| abs max error : 5.644744669552892e-05+5.796311597805470e-05j\t|\t5\t|\n",
      "====================================================================================================\n",
      "|\t 5\t| abs max error : 5.967102515569422e-05+5.590888031292707e-05j\t|\t6\t|\n",
      "====================================================================================================\n",
      "|\t 6\t| abs max error : 5.736774255638011e-05+7.757947605568916e-05j\t|\t7\t|\n",
      "====================================================================================================\n",
      "|\t 7\t| abs max error : 5.496021731232759e-05+5.005866114515811e-05j\t|\t8\t|\n",
      "====================================================================================================\n",
      "|\t 8\t| abs max error : 4.584088196679659e-05+6.713401671731845e-05j\t|\t9\t|\n",
      "====================================================================================================\n",
      "|\t 9\t| abs max error : 7.109152647899464e-05+8.031859761103988e-05j\t|\t10\t|\n",
      "====================================================================================================\n",
      "|\t10\t| abs max error : 8.494409030390671e-05+7.240792911034077e-05j\t|\t11\t|\n",
      "====================================================================================================\n",
      "|\t11\t| abs max error : 6.169732205307810e-05+5.162700836081058e-05j\t|\t12\t|\n",
      "====================================================================================================\n"
     ]
    }
   ],
   "source": [
    "print(\"=====\"*20)\n",
    "print(f\"|\\tfrom\\t|\\t\\t multiparty cevk {engine.num_levels}\\t\\t\\t\\t|\\tto\\t|\")\n",
    "print(\"=====\"*20)\n",
    "for level in range(engine.num_levels-4):\n",
    "    amin, amax = -255, 255\n",
    "    m = engine.example(amin=amin, amax=amax)\n",
    "    m_r = m*m\n",
    "    ct = engine.encorypt(m, cpk, level=level)\n",
    "    ct_ = engine.mult(ct, ct, evk=cevk)\n",
    "\n",
    "    pcts = [engine.multiparty_decrypt_head(ct_, sks[0])]\n",
    "    for sk in sks[1:]:\n",
    "        pcts.append(engine.multiparty_decrypt_partial(ct_, sk))\n",
    "    m_ = engine.multiparty_decrypt_fusion(pcts, level=ct_.level)\n",
    "\n",
    "    print(f\"|\\t{level:2d}\\t| abs max error : {absmax_error(m_, m_r):.15e}\\t|\\t{level+1}\\t|\")\n",
    "    print(\"=====\"*20)"
   ]
  },
  {
   "cell_type": "code",
   "execution_count": 9,
   "id": "d1a11bc4",
   "metadata": {
    "execution": {
     "iopub.execute_input": "2023-11-19T17:05:59.900692Z",
     "iopub.status.busy": "2023-11-19T17:05:59.900382Z",
     "iopub.status.idle": "2023-11-19T17:06:00.246941Z",
     "shell.execute_reply": "2023-11-19T17:06:00.245967Z",
     "shell.execute_reply.started": "2023-11-19T17:05:59.900675Z"
    }
   },
   "outputs": [
    {
     "name": "stdout",
     "output_type": "stream",
     "text": [
      "====================================================================================================\n",
      "|\tfrom\t|\t\t multiparty cevk 16\t\t\t\t|\tto\t|\n",
      "====================================================================================================\n",
      "|\t 0\t| abs max error : 8.379804057767615e-04+6.419643473236647e-04j\t|\t2\t|\n",
      "====================================================================================================\n",
      "|\t 1\t| abs max error : 6.829361882410012e-04+7.481787697543041e-04j\t|\t3\t|\n",
      "====================================================================================================\n",
      "|\t 2\t| abs max error : 7.354890913120471e-04+1.435421461337683e-03j\t|\t4\t|\n",
      "====================================================================================================\n",
      "|\t 3\t| abs max error : 6.530667833430925e-04+6.227328467502957e-04j\t|\t5\t|\n",
      "====================================================================================================\n",
      "|\t 4\t| abs max error : 8.230251332861371e-04+1.020490788960160e-03j\t|\t6\t|\n",
      "====================================================================================================\n",
      "|\t 5\t| abs max error : 5.370494982344098e-04+7.487396105716471e-04j\t|\t7\t|\n",
      "====================================================================================================\n",
      "|\t 6\t| abs max error : 7.269913658092264e-04+6.819810532761039e-04j\t|\t8\t|\n",
      "====================================================================================================\n",
      "|\t 7\t| abs max error : 5.843273902428336e-04+6.542416995216627e-04j\t|\t9\t|\n",
      "====================================================================================================\n",
      "|\t 8\t| abs max error : 7.579360317322426e-04+5.360916848076158e-04j\t|\t10\t|\n",
      "====================================================================================================\n",
      "|\t 9\t| abs max error : 7.405066025967244e-04+6.557972155860625e-04j\t|\t11\t|\n",
      "====================================================================================================\n",
      "|\t10\t| abs max error : 7.289554341696203e-04+5.919641971559031e-04j\t|\t12\t|\n",
      "====================================================================================================\n",
      "|\t11\t| abs max error : 7.807071560819168e-04+7.009781235183254e-04j\t|\t13\t|\n",
      "====================================================================================================\n",
      "|\t12\t| abs max error : 6.832058497820981e-04+6.227795997801877e-04j\t|\t14\t|\n",
      "====================================================================================================\n",
      "|\t13\t| abs max error : 7.307229279831517e-04+7.105971340024553e-04j\t|\t15\t|\n",
      "====================================================================================================\n"
     ]
    }
   ],
   "source": [
    "print(\"=====\"*20)\n",
    "print(f\"|\\tfrom\\t|\\t\\t multiparty cevk {engine.num_levels}\\t\\t\\t\\t|\\tto\\t|\")\n",
    "print(\"=====\"*20)\n",
    "for level in range(engine.num_levels-2):\n",
    "    amin, amax = -10, 10\n",
    "    m = engine.example(amin=amin, amax=amax)\n",
    "    m_r = m*m*m*m\n",
    "    ct = engine.encorypt(m, cpk, level=level)\n",
    "    ct_ = engine.mult(ct, ct, evk=cevk)\n",
    "    ct_ = engine.mult(ct_, ct_, evk=cevk)\n",
    "\n",
    "    pcts = [engine.multiparty_decrypt_head(ct_, sks[0])]\n",
    "    for sk in sks[1:]:\n",
    "        pcts.append(engine.multiparty_decrypt_partial(ct_, sk))\n",
    "    m_ = engine.multiparty_decrypt_fusion(pcts, level=ct_.level)\n",
    "\n",
    "    print(f\"|\\t{level:2d}\\t| abs max error : {absmax_error(m_, m_r):.15e}\\t|\\t{ct_.level}\\t|\")\n",
    "    print(\"=====\"*20)"
   ]
  },
  {
   "cell_type": "code",
   "execution_count": null,
   "id": "6c2dd2f2-717f-40f5-80af-0777a6d34b65",
   "metadata": {},
   "outputs": [],
   "source": []
  },
  {
   "cell_type": "code",
   "execution_count": null,
   "id": "279de76c-e154-4676-b734-147187e5ab9b",
   "metadata": {},
   "outputs": [],
   "source": []
  },
  {
   "cell_type": "code",
   "execution_count": null,
   "id": "1dcfe5bb-9c40-4116-8ee9-57ebb4251cf5",
   "metadata": {},
   "outputs": [],
   "source": []
  },
  {
   "cell_type": "code",
   "execution_count": null,
   "id": "0888ca13",
   "metadata": {},
   "outputs": [],
   "source": []
  },
  {
   "cell_type": "code",
   "execution_count": null,
   "id": "50dca59f",
   "metadata": {},
   "outputs": [],
   "source": []
  },
  {
   "cell_type": "code",
   "execution_count": null,
   "id": "243d19a0",
   "metadata": {},
   "outputs": [],
   "source": []
  },
  {
   "cell_type": "code",
   "execution_count": null,
   "id": "cac9867a",
   "metadata": {},
   "outputs": [],
   "source": []
  }
 ],
 "metadata": {
  "kernelspec": {
   "display_name": "liberate",
   "language": "python",
   "name": "liberate"
  },
  "language_info": {
   "codemirror_mode": {
    "name": "ipython",
    "version": 3
   },
   "file_extension": ".py",
   "mimetype": "text/x-python",
   "name": "python",
   "nbconvert_exporter": "python",
   "pygments_lexer": "ipython3",
   "version": "3.11.6"
  }
 },
 "nbformat": 4,
 "nbformat_minor": 5
}
